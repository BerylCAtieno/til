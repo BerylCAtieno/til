{
 "cells": [
  {
   "cell_type": "code",
   "execution_count": 1,
   "id": "c87619dd",
   "metadata": {},
   "outputs": [],
   "source": [
    "import numpy as np"
   ]
  },
  {
   "cell_type": "markdown",
   "id": "14a34f89",
   "metadata": {},
   "source": [
    "### Creating Numpy Arrays"
   ]
  },
  {
   "cell_type": "code",
   "execution_count": null,
   "id": "2540b19e",
   "metadata": {},
   "outputs": [],
   "source": [
    "# TO DO: Understand axes multidimensional arrays\n",
    "# TO DO: Creating Numpy Arrays\n",
    "# TO DO:Stacking Numpy  Arrays\n",
    "# TO DO:Linear Algebra in Numpy"
   ]
  }
 ],
 "metadata": {
  "kernelspec": {
   "display_name": "Python 3 (ipykernel)",
   "language": "python",
   "name": "python3"
  },
  "language_info": {
   "codemirror_mode": {
    "name": "ipython",
    "version": 3
   },
   "file_extension": ".py",
   "mimetype": "text/x-python",
   "name": "python",
   "nbconvert_exporter": "python",
   "pygments_lexer": "ipython3",
   "version": "3.9.13"
  }
 },
 "nbformat": 4,
 "nbformat_minor": 5
}
